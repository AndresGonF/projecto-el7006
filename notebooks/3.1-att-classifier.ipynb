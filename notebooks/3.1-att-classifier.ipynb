{
 "cells": [
  {
   "cell_type": "code",
   "execution_count": 8,
   "metadata": {},
   "outputs": [
    {
     "name": "stdout",
     "output_type": "stream",
     "text": [
      "The autoreload extension is already loaded. To reload it, use:\n",
      "  %reload_ext autoreload\n"
     ]
    }
   ],
   "source": [
    "%load_ext autoreload\n",
    "%autoreload 2\n",
    "\n",
    "import os\n",
    "import sys\n",
    "project_path = os.path.abspath('..')\n",
    "sys.path.insert(1, project_path)\n",
    "\n",
    "import matplotlib.pyplot as plt\n",
    "# import seaborn\n",
    "# seaborn.set_context(context=\"talk\")\n",
    "\n",
    "from torch.utils.data import DataLoader\n",
    "\n",
    "from src.data.dataset import lc_dataset\n",
    "from src.models.model import periodicTransformer"
   ]
  },
  {
   "cell_type": "code",
   "execution_count": 14,
   "metadata": {},
   "outputs": [],
   "source": [
    "train_data = lc_dataset()\n",
    "train_data.add_curves('sinmix', N=800, seq_len=200, min_period=0.5, max_period=2, label=0)\n",
    "train_data.add_curves('sinmix', N=800, seq_len=200, min_period=5, max_period=10, label=1)\n",
    "train_data.add_curves('sinmix', N=800, seq_len=200, min_period=1.5, max_period=4, label=2)\n",
    "train_data.add_curves('square', N=800, seq_len=200, min_period=2, max_period=8, label=3)\n",
    "\n",
    "val_data = lc_dataset(seed=127)\n",
    "val_data.add_curves('sinmix', N=300, seq_len=200, min_period=0.5, max_period=2, label=0)\n",
    "val_data.add_curves('sinmix', N=300, seq_len=200, min_period=5, max_period=10, label=1)\n",
    "val_data.add_curves('sinmix', N=300, seq_len=200, min_period=1.5, max_period=4, label=2)\n",
    "val_data.add_curves('square', N=300, seq_len=200, min_period=2, max_period=8, label=3)"
   ]
  },
  {
   "cell_type": "code",
   "execution_count": 15,
   "metadata": {},
   "outputs": [],
   "source": [
    "batch_size = 64\n",
    "\n",
    "\n",
    "train_loader = DataLoader(train_data,\n",
    "                            batch_size=batch_size,\n",
    "                            pin_memory=True,\n",
    "                            num_workers=16,\n",
    "                            shuffle=True)\n",
    "\n",
    "val_loader = DataLoader(val_data,\n",
    "                        batch_size=batch_size,\n",
    "                        pin_memory=True,\n",
    "                        num_workers=16,\n",
    "                        shuffle=True)                \n"
   ]
  },
  {
   "cell_type": "code",
   "execution_count": 16,
   "metadata": {},
   "outputs": [
    {
     "name": "stderr",
     "output_type": "stream",
     "text": [
      "/home/agonzalez/projects/el7006/Projecto-EL7006/src/models/model.py:24: UserWarning: nn.init.xavier_uniform is now deprecated in favor of nn.init.xavier_uniform_.\n",
      "  nn.init.xavier_uniform(p)\n"
     ]
    }
   ],
   "source": [
    "tmp_model = periodicTransformer(n_classes=4, N=6, d_model=200, d_ff=2048, h=8, dropout=0.1)"
   ]
  },
  {
   "cell_type": "code",
   "execution_count": 17,
   "metadata": {},
   "outputs": [
    {
     "name": "stdout",
     "output_type": "stream",
     "text": [
      "Epoch: 0 - Train loss: 0.2248520851135254 - Val loss: 0.09838548302650452 - Val acc: 0.9375\n",
      "Epoch: 1 - Train loss: 0.16187214851379395 - Val loss: 0.10849296301603317 - Val acc: 0.9166666865348816\n",
      "Epoch: 2 - Train loss: 0.036584191024303436 - Val loss: 0.07660561800003052 - Val acc: 0.9791666865348816\n",
      "Epoch: 3 - Train loss: 0.09386802464723587 - Val loss: 0.09193874150514603 - Val acc: 0.9375\n",
      "Epoch: 4 - Train loss: 0.08306336402893066 - Val loss: 0.0880228579044342 - Val acc: 0.9375\n",
      "Epoch: 5 - Train loss: 0.06744939088821411 - Val loss: 0.15285548567771912 - Val acc: 0.9375\n",
      "Epoch: 6 - Train loss: 0.058003731071949005 - Val loss: 0.2319866269826889 - Val acc: 0.8541666865348816\n",
      "Epoch: 7 - Train loss: 0.12634335458278656 - Val loss: 0.07774040848016739 - Val acc: 0.9583333134651184\n",
      "Epoch: 8 - Train loss: 0.04774852842092514 - Val loss: 0.3441821038722992 - Val acc: 0.8333333134651184\n",
      "Epoch: 9 - Train loss: 0.1505812555551529 - Val loss: 0.14155159890651703 - Val acc: 0.9375\n"
     ]
    }
   ],
   "source": [
    "tmp_model.fit(train_loader, val_loader, 10)"
   ]
  },
  {
   "cell_type": "code",
   "execution_count": 18,
   "metadata": {},
   "outputs": [
    {
     "name": "stdout",
     "output_type": "stream",
     "text": [
      "Test acc: 0.953125\n",
      "Test acc: 0.859375\n",
      "Test acc: 0.953125\n",
      "Test acc: 0.921875\n",
      "Test acc: 0.96875\n",
      "Test acc: 0.90625\n",
      "Test acc: 0.953125\n",
      "Test acc: 0.9375\n",
      "Test acc: 0.875\n",
      "Test acc: 0.921875\n",
      "Test acc: 0.90625\n",
      "Test acc: 0.9375\n",
      "Test acc: 0.9375\n"
     ]
    }
   ],
   "source": [
    "test_data = lc_dataset(seed=20)\n",
    "test_data.add_curves('sinmix', N=200, seq_len=200, min_period=0.5, max_period=2, label=0)\n",
    "test_data.add_curves('sinmix', N=200, seq_len=200, min_period=5, max_period=10, label=1)\n",
    "test_data.add_curves('sinmix', N=200, seq_len=200, min_period=1.5, max_period=4, label=2)\n",
    "test_data.add_curves('square', N=200, seq_len=200, min_period=2, max_period=8, label=3)\n",
    "\n",
    "test_loader = DataLoader(test_data,\n",
    "                        batch_size=batch_size,\n",
    "                        pin_memory=True,\n",
    "                        num_workers=16,\n",
    "                        shuffle=True)    \n",
    "\n",
    "tmp_model.test(test_loader)"
   ]
  },
  {
   "cell_type": "code",
   "execution_count": null,
   "metadata": {},
   "outputs": [],
   "source": []
  }
 ],
 "metadata": {
  "kernelspec": {
   "display_name": "el7006",
   "language": "python",
   "name": "el7006"
  },
  "language_info": {
   "codemirror_mode": {
    "name": "ipython",
    "version": 3
   },
   "file_extension": ".py",
   "mimetype": "text/x-python",
   "name": "python",
   "nbconvert_exporter": "python",
   "pygments_lexer": "ipython3",
   "version": "3.9.12"
  },
  "orig_nbformat": 4,
  "vscode": {
   "interpreter": {
    "hash": "916dbcbb3f70747c44a77c7bcd40155683ae19c65e1c03b4aa3499c5328201f1"
   }
  }
 },
 "nbformat": 4,
 "nbformat_minor": 2
}

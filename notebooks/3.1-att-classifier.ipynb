{
 "cells": [
  {
   "cell_type": "code",
   "execution_count": 1,
   "metadata": {},
   "outputs": [],
   "source": [
    "%load_ext autoreload\n",
    "%autoreload 2\n",
    "\n",
    "import os\n",
    "import sys\n",
    "project_path = os.path.abspath('..')\n",
    "sys.path.insert(1, project_path)\n",
    "\n",
    "import matplotlib.pyplot as plt\n",
    "# import seaborn\n",
    "# seaborn.set_context(context=\"talk\")\n",
    "\n",
    "from torch.utils.data import DataLoader\n",
    "\n",
    "from src.data.dataset import lc_dataset\n",
    "from src.models.model import periodicTransformer"
   ]
  },
  {
   "cell_type": "code",
   "execution_count": 2,
   "metadata": {},
   "outputs": [],
   "source": [
    "train_data = lc_dataset()\n",
    "train_data.add_curves('sinmix', N=1000, seq_len=200, min_period=0.2, max_period=2, label=0)\n",
    "train_data.add_curves('square', N=1000, seq_len=200, min_period=0.2, max_period=2, label=1)\n",
    "\n",
    "val_data = lc_dataset(seed=127)\n",
    "val_data.add_curves('sinmix', N=500, seq_len=200, min_period=0.2, max_period=2, label=0)\n",
    "val_data.add_curves('square', N=500, seq_len=200, min_period=0.2, max_period=2, label=1)\n",
    "\n",
    "test_data = lc_dataset(seed=20)\n",
    "test_data.add_curves('sinmix', N=200, seq_len=200, min_period=0.1, max_period=1.8, label=0)\n",
    "test_data.add_curves('square', N=200, seq_len=200, min_period=0.1, max_period=1.8, label=1)"
   ]
  },
  {
   "cell_type": "code",
   "execution_count": 3,
   "metadata": {},
   "outputs": [],
   "source": [
    "batch_size = 64\n",
    "\n",
    "\n",
    "train_loader = DataLoader(train_data,\n",
    "                            batch_size=batch_size,\n",
    "                            pin_memory=True,\n",
    "                            num_workers=16,\n",
    "                            shuffle=True)\n",
    "\n",
    "val_loader = DataLoader(val_data,\n",
    "                        batch_size=batch_size,\n",
    "                        pin_memory=True,\n",
    "                        num_workers=16,\n",
    "                        shuffle=True)\n",
    "\n",
    "test_loader = DataLoader(test_data,\n",
    "                        batch_size=batch_size,\n",
    "                        pin_memory=True,\n",
    "                        num_workers=16,\n",
    "                        shuffle=True)                        \n"
   ]
  },
  {
   "cell_type": "code",
   "execution_count": 4,
   "metadata": {},
   "outputs": [
    {
     "name": "stderr",
     "output_type": "stream",
     "text": [
      "/home/agonzalez/projects/el7006/Projecto-EL7006/src/models/model.py:24: UserWarning: nn.init.xavier_uniform is now deprecated in favor of nn.init.xavier_uniform_.\n",
      "  nn.init.xavier_uniform(p)\n"
     ]
    }
   ],
   "source": [
    "tmp_model = periodicTransformer(n_classes=2, N=6, d_model=200, d_ff=2048, h=8, dropout=0.1)"
   ]
  },
  {
   "cell_type": "code",
   "execution_count": 5,
   "metadata": {},
   "outputs": [
    {
     "name": "stdout",
     "output_type": "stream",
     "text": [
      "Epoch: 0 - Train loss: 0.1685013771057129 - Val loss: 0.20038196444511414 - Val acc: 0.925000011920929\n",
      "Epoch: 1 - Train loss: 0.004883994348347187 - Val loss: 0.06868414580821991 - Val acc: 0.9750000238418579\n",
      "Epoch: 2 - Train loss: 0.30103787779808044 - Val loss: 0.03840715065598488 - Val acc: 0.9750000238418579\n",
      "Epoch: 3 - Train loss: 0.003760323626920581 - Val loss: 0.049921102821826935 - Val acc: 1.0\n",
      "Epoch: 4 - Train loss: 0.0669018030166626 - Val loss: 0.011663617566227913 - Val acc: 1.0\n",
      "Epoch: 5 - Train loss: 0.0021118405275046825 - Val loss: 0.16171489655971527 - Val acc: 0.925000011920929\n",
      "Epoch: 6 - Train loss: 0.0056238858960568905 - Val loss: 0.03982793539762497 - Val acc: 1.0\n",
      "Epoch: 7 - Train loss: 0.014010620303452015 - Val loss: 0.04734513908624649 - Val acc: 0.9750000238418579\n",
      "Epoch: 8 - Train loss: 0.21475428342819214 - Val loss: 0.1402968317270279 - Val acc: 0.949999988079071\n",
      "Epoch: 9 - Train loss: 0.03557892143726349 - Val loss: 0.0712897777557373 - Val acc: 0.9750000238418579\n"
     ]
    }
   ],
   "source": [
    "tmp_model.fit(train_loader, val_loader, 10)"
   ]
  },
  {
   "cell_type": "code",
   "execution_count": 6,
   "metadata": {},
   "outputs": [
    {
     "name": "stdout",
     "output_type": "stream",
     "text": [
      "Test acc: 0.96875\n",
      "Test acc: 0.953125\n",
      "Test acc: 0.984375\n",
      "Test acc: 0.96875\n",
      "Test acc: 1.0\n",
      "Test acc: 0.96875\n",
      "Test acc: 0.9375\n"
     ]
    }
   ],
   "source": [
    "test_data = lc_dataset(seed=20)\n",
    "test_data.add_curves('sinmix', N=200, seq_len=200, min_period=0.5, max_period=6, label=0)\n",
    "test_data.add_curves('square', N=200, seq_len=200, min_period=2, max_period=8, label=1)\n",
    "\n",
    "tmp_model.test(test_loader)"
   ]
  },
  {
   "cell_type": "code",
   "execution_count": null,
   "metadata": {},
   "outputs": [],
   "source": []
  }
 ],
 "metadata": {
  "kernelspec": {
   "display_name": "el7006",
   "language": "python",
   "name": "el7006"
  },
  "language_info": {
   "codemirror_mode": {
    "name": "ipython",
    "version": 3
   },
   "file_extension": ".py",
   "mimetype": "text/x-python",
   "name": "python",
   "nbconvert_exporter": "python",
   "pygments_lexer": "ipython3",
   "version": "3.9.12"
  },
  "orig_nbformat": 4,
  "vscode": {
   "interpreter": {
    "hash": "916dbcbb3f70747c44a77c7bcd40155683ae19c65e1c03b4aa3499c5328201f1"
   }
  }
 },
 "nbformat": 4,
 "nbformat_minor": 2
}
